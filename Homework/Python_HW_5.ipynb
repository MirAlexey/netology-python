{
 "cells": [
  {
   "cell_type": "code",
   "execution_count": 40,
   "metadata": {},
   "outputs": [],
   "source": [
    "# Импорт библиотек\n",
    "import numpy as np\n",
    "import pandas as pd"
   ]
  },
  {
   "cell_type": "code",
   "execution_count": 15,
   "metadata": {},
   "outputs": [
    {
     "name": "stdout",
     "output_type": "stream",
     "text": [
      "[9 8 7 6 5 4 3 2 1 0]\n",
      "[9 8 7 6 5 4 3 2 1 0]\n"
     ]
    }
   ],
   "source": [
    "# Задание 1\n",
    "# Создайте numpy array с элементами от числа N до 0\n",
    "# (например, для N = 10 это будет array([9, 8, 7, 6, 5, 4, 3, 2, 1, 0])).\n",
    "N = 10\n",
    "\n",
    "# вар 1 через list\n",
    "arr = np.array(list([x for x in range(N)])[::-1])\n",
    "print(arr)\n",
    "\n",
    "# вар 2 автоматом\n",
    "arr = np.array(range(N)[::-1])\n",
    "print(arr)\n",
    "\n"
   ]
  },
  {
   "cell_type": "code",
   "execution_count": 39,
   "metadata": {},
   "outputs": [
    {
     "name": "stdout",
     "output_type": "stream",
     "text": [
      "Матрица: \n",
      " [[4. 0. 0. 0. 0.]\n",
      " [0. 3. 0. 0. 0.]\n",
      " [0. 0. 2. 0. 0.]\n",
      " [0. 0. 0. 1. 0.]\n",
      " [0. 0. 0. 0. 0.]]\n",
      "Сумма по диагонали: 10.0\n",
      "Матрица: \n",
      " [[4. 0. 0. 0. 0.]\n",
      " [0. 3. 0. 0. 0.]\n",
      " [0. 0. 2. 0. 0.]\n",
      " [0. 0. 0. 1. 0.]\n",
      " [0. 0. 0. 0. 0.]]\n",
      "Сумма по диагонали: 10.0\n"
     ]
    }
   ],
   "source": [
    "# Задание 2\n",
    "# Создайте диагональную матрицу с элементами от N до 0. \n",
    "# Посчитайте сумму ее значений на диагонали.\n",
    "\n",
    "# количество элементов \n",
    "N=5\n",
    "\n",
    "# вар 1 через lambda (мне кажется более сложно, но более гибко)\n",
    "m = np.array(list(map(lambda x,y: x*y, np.eye(N), range(N)[::-1] )))\n",
    "print(f'Матрица: \\n {m}')\n",
    "# получаем сумму диагонали\n",
    "s = m.diagonal().sum()\n",
    "print(f'Сумма по диагонали: {s}')\n",
    "\n",
    "# вар 2 через встроеные операции\n",
    "m = np.eye(N)*range(N)[::-1]\n",
    "print(f'Матрица: \\n {m}')\n",
    "# так как матрица имеет ненулевые элементы только на диагонали, \n",
    "# то можно просуммировать все элементы\n",
    "s = m.sum().sum()\n",
    "print(f'Сумма по диагонали: {s}')"
   ]
  },
  {
   "cell_type": "code",
   "execution_count": 141,
   "metadata": {},
   "outputs": [
    {
     "name": "stdout",
     "output_type": "stream",
     "text": [
      "Вариант 1\n",
      "максимальное упоминание фильмов из списка [318] \n",
      " количество = 170\n",
      "     movieId                             title       genres\n",
      "284      318  Shawshank Redemption, The (1994)  Crime|Drama\n",
      "\n",
      "Вариант 2\n",
      "максимальное упоминание фильмов из списка [318] \n",
      "         количество = 170\n",
      "     movieId                             title       genres\n",
      "284      318  Shawshank Redemption, The (1994)  Crime|Drama\n"
     ]
    }
   ],
   "source": [
    "# Задание 3\n",
    "# Скачайте с сайта https://grouplens.org/datasets/movielens/ датасет \n",
    "# любого размера. Определите какому фильму было выставлено больше всего оценок 5.0.\n",
    "\n",
    "# загружаем датасет (используем маленький сет)\n",
    "ratings = pd.read_csv('ratings.csv')\n",
    "movies = pd.read_csv('movies.csv')\n",
    "# получаем фильмы с выставленым рейтингом 5\n",
    "ratings_5 = ratings[ratings['rating'] == 5]\n",
    "\n",
    "# вар 1 через volue_counts\n",
    "# получаем количество выставленийц рейтинга 5 для фильмов\n",
    "res = ratings_5['movieId'].value_counts()\n",
    "# список id фильмов с количеством выставленных рейтингов равном максимальному\n",
    "max_rating_movieid_list = []\n",
    "# максимальное количество выставленных рейтингов одному фильму\n",
    "max_count = max(res)\n",
    "\n",
    "# формируем список фильмов\n",
    "for i in res.keys():\n",
    "    if res[i] == max_count:\n",
    "        max_rating_movieid_list.append(i)\n",
    "    else:\n",
    "        break\n",
    "        \n",
    "print('Вариант 1')        \n",
    "print(f'максимальное упоминание фильмов из списка {max_rating_movieid_list} \\n\\\n",
    "        количество = {max_count}')        \n",
    "print(movies[movies['movieId'].isin(max_rating_movieid_list)])\n",
    "\n",
    "# вар 2\n",
    "count_ratings = ratings_5[['movieId','userId']].groupby(['movieId']).count()\n",
    "max_count_rating = count_ratings[count_ratings['userId'] == max(count_ratings['userId'])]\n",
    "\n",
    "print('\\nВариант 2')\n",
    "print(f'максимальное упоминание фильмов из списка {max_count_rating[\"userId\"].keys().values} \\n \\\n",
    "        количество = {max(max_count_rating[\"userId\"].values)}')\n",
    "print(movies[movies['movieId'].isin(max_count_rating['userId'].keys().values)])\n",
    "\n"
   ]
  },
  {
   "cell_type": "code",
   "execution_count": null,
   "metadata": {},
   "outputs": [],
   "source": [
    "Задание 4\n",
    "По данным файла power.csv посчитайте суммарное потребление стран Прибалтики (Латвия, Литва и Эстония) категорий 4, 12 и 21 за период с 2005 по 2010 года. Не учитывайте в расчетах отрицательные значения quantity.\n",
    "\n"
   ]
  },
  {
   "cell_type": "code",
   "execution_count": 166,
   "metadata": {},
   "outputs": [
    {
     "name": "stdout",
     "output_type": "stream",
     "text": [
      "Решением является вектор - [ 0.46666667  3.84444444 -5.55555556] \n",
      "Проверка ответа - True\n"
     ]
    }
   ],
   "source": [
    "# Задание 5\n",
    "# Решите систему уравнений:\n",
    "# 4x + 2y + z = 4\n",
    "# x + 3y = 12\n",
    "# 5y + 4z = -3\n",
    "\n",
    "# подключаем библиотеку\n",
    "from numpy import linalg\n",
    "\n",
    "# создаем матрици с коэфициентами\n",
    "x = np.array([[4,2,1],\n",
    "              [1,3,0],\n",
    "              [0,5,4]])\n",
    "y = np.array([4,12,-3])\n",
    "\n",
    "# получаем ответ\n",
    "res = linalg.solve(x, y)\n",
    "\n",
    "# проверяем решение\n",
    "is_pass = np.allclose( np.dot(x, res), y )\n",
    "\n",
    "print(f'Решением является вектор - {res} \\nПроверка ответа - {is_pass}')\n"
   ]
  },
  {
   "cell_type": "code",
   "execution_count": null,
   "metadata": {},
   "outputs": [],
   "source": []
  },
  {
   "cell_type": "code",
   "execution_count": null,
   "metadata": {},
   "outputs": [],
   "source": []
  },
  {
   "cell_type": "code",
   "execution_count": 13,
   "metadata": {},
   "outputs": [],
   "source": [
    "?np.array"
   ]
  },
  {
   "cell_type": "code",
   "execution_count": null,
   "metadata": {},
   "outputs": [],
   "source": []
  },
  {
   "cell_type": "code",
   "execution_count": 12,
   "metadata": {},
   "outputs": [
    {
     "data": {
      "text/plain": [
       "array([9, 8, 7, 6, 5, 4, 3, 2, 1, 0])"
      ]
     },
     "execution_count": 12,
     "metadata": {},
     "output_type": "execute_result"
    }
   ],
   "source": [
    "np.array(range(10)[::-1])"
   ]
  },
  {
   "cell_type": "code",
   "execution_count": null,
   "metadata": {},
   "outputs": [],
   "source": []
  },
  {
   "cell_type": "code",
   "execution_count": null,
   "metadata": {},
   "outputs": [],
   "source": []
  },
  {
   "cell_type": "code",
   "execution_count": null,
   "metadata": {},
   "outputs": [],
   "source": []
  }
 ],
 "metadata": {
  "kernelspec": {
   "display_name": "Python 3",
   "language": "python",
   "name": "python3"
  },
  "language_info": {
   "codemirror_mode": {
    "name": "ipython",
    "version": 3
   },
   "file_extension": ".py",
   "mimetype": "text/x-python",
   "name": "python",
   "nbconvert_exporter": "python",
   "pygments_lexer": "ipython3",
   "version": "3.6.3"
  }
 },
 "nbformat": 4,
 "nbformat_minor": 2
}
