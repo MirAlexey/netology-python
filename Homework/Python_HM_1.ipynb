{
 "cells": [
  {
   "cell_type": "code",
   "execution_count": 1,
   "metadata": {},
   "outputs": [],
   "source": [
    "# Домашнее задание № 1"
   ]
  },
  {
   "cell_type": "code",
   "execution_count": 2,
   "metadata": {},
   "outputs": [
    {
     "name": "stdout",
     "output_type": "stream",
     "text": [
      "True\n"
     ]
    }
   ],
   "source": [
    "# 1. Даны 2 строки long_phrase и short_phrase. \n",
    "# Напишите код, который проверяет действительно ли \n",
    "# длинная фраза long_phrase длиннее короткой short_phrase. \n",
    "# И выводит True или False в зависимости от результата сравнения.\n",
    "\n",
    "long_phrase =  'Насколько проще было бы писать программы, если бы не заказчики'\n",
    "short_phrase = '640Кб должно хватить для любых задач. Билл Гейтс (по легенде)'\n",
    "\n",
    "# сравним длины строк\n",
    "\n",
    "print(len(long_phrase) > len(short_phrase))"
   ]
  },
  {
   "cell_type": "code",
   "execution_count": 16,
   "metadata": {},
   "outputs": [
    {
     "name": "stdout",
     "output_type": "stream",
     "text": [
      "Чаще встречается буква \"а\"\n",
      "Чаще встречается буква \"а\"\n"
     ]
    }
   ],
   "source": [
    "# 2. Дана строка text.\n",
    "# Определите какая из двух букв встречается в нем чаще - 'а' или 'и'.\n",
    "\n",
    "text = 'Если программист в 9-00 утра на работе, значит, он там и ночевал'\n",
    "\n",
    "# P. S. Вам может помочь метод replace.\n",
    "\n",
    "# приведем строку к нижнему регистру\n",
    "s = text.lower() \n",
    "\n",
    "# Вариант 1.Заменим в строке соответствующие символы на пустоту \n",
    "# и сравним длинны получившехся строк \n",
    "\n",
    "print('Чаще встречается буква', ('\"и\"' if len(s.replace('а',''))>len(s.replace('и','')) else '\"а\"'))\n",
    "\n",
    "# Вариант 2. Разобъем строку по соответствующей букве в массивы и сравним их длинны\n",
    "print('Чаще встречается буква', ('\"и\"' if len(s.split('и'))>len(s.split('а')) else '\"а\"'))"
   ]
  },
  {
   "cell_type": "code",
   "execution_count": 20,
   "metadata": {},
   "outputs": [
    {
     "name": "stdout",
     "output_type": "stream",
     "text": [
      "Объем файла равен 22328.89Mb\n"
     ]
    }
   ],
   "source": [
    "# 3. Дано значение объема файла в байтах. \n",
    "# Напишите перевод этого значения в мегабайты в формате:\n",
    "\n",
    "# 'Объем файла равен 213.68Mb'\n",
    "\n",
    "l = 23413534235\n",
    "# т.к. 1 мегабайт = 1024 килобайта, а 1 килобайт = 1024 байта, то\n",
    "print(f'Объем файла равен {l/1024/1024:.2f}Mb')"
   ]
  },
  {
   "cell_type": "code",
   "execution_count": 24,
   "metadata": {},
   "outputs": [
    {
     "name": "stdout",
     "output_type": "stream",
     "text": [
      "0.49999999999999994\n"
     ]
    }
   ],
   "source": [
    "# 4. Выведите на экран значение синуса 30 градусов с помощью метода math.sin.\n",
    "import math\n",
    "print(math.sin(30*math.pi/180))"
   ]
  },
  {
   "cell_type": "code",
   "execution_count": 25,
   "metadata": {},
   "outputs": [
    {
     "name": "stdout",
     "output_type": "stream",
     "text": [
      "0.30000000000000004\n"
     ]
    }
   ],
   "source": [
    "# 5. В прошлом задании у вас скорее всего не получилось \n",
    "# точного значения 0.5 из-за конечной точности вычисления синуса. \n",
    "# Но почему некоторые простые операции также могут давать неточный результат? \n",
    "# Попробуйте вывести на экран результат операции 0.1 + 0.2\n",
    "print(0.1+0.2)\n",
    "# Т.к. дробные числа в компьютере представлены в виде двоичной дроби, \n",
    "# то невсегда возможно выразить десятичную дробь через двоичную. "
   ]
  },
  {
   "cell_type": "code",
   "execution_count": 43,
   "metadata": {},
   "outputs": [
    {
     "name": "stdout",
     "output_type": "stream",
     "text": [
      "a=123, b=456\n",
      "a=456, b=123\n",
      "a=123, b=456\n"
     ]
    }
   ],
   "source": [
    "# В переменных a и b записаны 2 различных числа. \n",
    "# Вам необходимо написать код, который меняет \n",
    "# значения a и b местами без использования третьей переменной.\n",
    "a = 123\n",
    "b = 456\n",
    "# Вариант 1. Особенность питона в том? что он фиксирует значения переменных \n",
    "# перед математической операцией и возможна запись\n",
    "print(f'a={a}, b={b}')\n",
    "a,b=b,a\n",
    "print(f'a={a}, b={b}')\n",
    "# Хрестоматийный способ для целых чисел через операцию XOR\n",
    "a = a^b\n",
    "b = b^a\n",
    "a = a^b\n",
    "print(f'a={a}, b={b}')"
   ]
  },
  {
   "cell_type": "code",
   "execution_count": 74,
   "metadata": {},
   "outputs": [
    {
     "name": "stdout",
     "output_type": "stream",
     "text": [
      "19\n"
     ]
    }
   ],
   "source": [
    "# Дано число в двоичной системе счисления: num=10011. \n",
    "# Напишите алгоритм перевода этого числа в привычную \n",
    "# нам десятичную систему счисления.\n",
    "\n",
    "num='10011'\n",
    "\n",
    "# переберем число по цифре справа налево и просумируем их\n",
    "# умножив на двойку в степени равной порядку цифры\n",
    "\n",
    "m, res =len(num),0\n",
    "for n in range(m):\n",
    "    res+= int(num[m-n-1:m-n])*(2**(n))\n",
    "print(res)"
   ]
  },
  {
   "cell_type": "code",
   "execution_count": null,
   "metadata": {},
   "outputs": [],
   "source": []
  }
 ],
 "metadata": {
  "kernelspec": {
   "display_name": "Python 3",
   "language": "python",
   "name": "python3"
  },
  "language_info": {
   "codemirror_mode": {
    "name": "ipython",
    "version": 3
   },
   "file_extension": ".py",
   "mimetype": "text/x-python",
   "name": "python",
   "nbconvert_exporter": "python",
   "pygments_lexer": "ipython3",
   "version": "3.6.5"
  }
 },
 "nbformat": 4,
 "nbformat_minor": 2
}
