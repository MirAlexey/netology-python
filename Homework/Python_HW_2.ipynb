{
 "cells": [
  {
   "cell_type": "code",
   "execution_count": 99,
   "metadata": {},
   "outputs": [
    {
     "ename": "SyntaxError",
     "evalue": "invalid syntax (<ipython-input-99-03ea12d915a2>, line 8)",
     "output_type": "error",
     "traceback": [
      "\u001b[0;36m  File \u001b[0;32m\"<ipython-input-99-03ea12d915a2>\"\u001b[0;36m, line \u001b[0;32m8\u001b[0m\n\u001b[0;31m    ['visit1': ['Москва', 'Россия']],\u001b[0m\n\u001b[0m             ^\u001b[0m\n\u001b[0;31mSyntaxError\u001b[0m\u001b[0;31m:\u001b[0m invalid syntax\n"
     ]
    }
   ],
   "source": [
    "# Задание 1\n",
    "# Дан список с визитами по городам и странам. \n",
    "# Напишите код, который возвращает отфильтрованный список geo_logs, \n",
    "# содержащий только визиты из России. Считайте, что список geo_logs легко \n",
    "# помещается в оперативной памяти.\n",
    "# \n",
    "geo_logs = [\n",
    "['visit1': ['Москва', 'Россия']],\n",
    "['visit2': ['Дели', 'Индия']],\n",
    "['visit3': ['Владимир', 'Россия']],\n",
    "['visit4': ['Лиссабон', 'Португалия']],\n",
    "['visit5': ['Париж', 'Франция']],\n",
    "['visit6': ['Лиссабон', 'Португалия']],\n",
    "['visit7': ['Тула', 'Россия']],\n",
    "['visit8': ['Тула', 'Россия']],\n",
    "['visit9': ['Курск', 'Россия']],\n",
    "['visit10': ['Архангельск', 'Россия']],\n",
    "]\n"
   ]
  },
  {
   "cell_type": "code",
   "execution_count": 109,
   "metadata": {},
   "outputs": [
    {
     "data": {
      "text/plain": [
       "[['visit1', ['Москва', 'Россия']],\n",
       " ['visit3', ['Владимир', 'Россия']],\n",
       " ['visit7', ['Тула', 'Россия']],\n",
       " ['visit8', ['Тула', 'Россия']],\n",
       " ['visit9', ['Курск', 'Россия']],\n",
       " ['visit10', ['Архангельск', 'Россия']]]"
      ]
     },
     "execution_count": 109,
     "metadata": {},
     "output_type": "execute_result"
    }
   ],
   "source": [
    "# так как исправить можно по разному, привожу 2 варианта\n",
    "\n",
    "# предрположим, что верная запись такая\n",
    "geo_logs = [\n",
    "['visit1', ['Москва', 'Россия']],\n",
    "['visit2', ['Дели', 'Индия']],\n",
    "['visit3', ['Владимир', 'Россия']],\n",
    "['visit4', ['Лиссабон', 'Португалия']],\n",
    "['visit5', ['Париж', 'Франция']],\n",
    "['visit6', ['Лиссабон', 'Португалия']],\n",
    "['visit7', ['Тула', 'Россия']],\n",
    "['visit8', ['Тула', 'Россия']],\n",
    "['visit9', ['Курск', 'Россия']],\n",
    "['visit10', ['Архангельск', 'Россия']],\n",
    "]\n",
    "\n",
    "res = [x for x in geo_logs if x[-1][-1]=='Россия']\n",
    "res"
   ]
  },
  {
   "cell_type": "code",
   "execution_count": 111,
   "metadata": {},
   "outputs": [
    {
     "data": {
      "text/plain": [
       "{'visit1': ['Москва', 'Россия'],\n",
       " 'visit3': ['Владимир', 'Россия'],\n",
       " 'visit7': ['Тула', 'Россия'],\n",
       " 'visit8': ['Тула', 'Россия'],\n",
       " 'visit9': ['Курск', 'Россия'],\n",
       " 'visit10': ['Архангельск', 'Россия']}"
      ]
     },
     "execution_count": 111,
     "metadata": {},
     "output_type": "execute_result"
    }
   ],
   "source": [
    "# предрположим, что верная запись такая\n",
    "geo_logs = {\n",
    "'visit1': ['Москва', 'Россия'],\n",
    "'visit2': ['Дели', 'Индия'],\n",
    "'visit3': ['Владимир', 'Россия'],\n",
    "'visit4': ['Лиссабон', 'Португалия'],\n",
    "'visit5': ['Париж', 'Франция'],\n",
    "'visit6': ['Лиссабон', 'Португалия'],\n",
    "'visit7': ['Тула', 'Россия'],\n",
    "'visit8': ['Тула', 'Россия'],\n",
    "'visit9': ['Курск', 'Россия'],\n",
    "'visit10': ['Архангельск', 'Россия'],\n",
    "}\n",
    "\n",
    "res = {x:geo_logs[x] for x in geo_logs.keys() if geo_logs[x][-1]=='Россия'}\n",
    "res"
   ]
  },
  {
   "cell_type": "code",
   "execution_count": null,
   "metadata": {},
   "outputs": [],
   "source": []
  },
  {
   "cell_type": "code",
   "execution_count": 8,
   "metadata": {},
   "outputs": [],
   "source": [
    "# Задание 2\n",
    "# Выведите на экран все уникальные гео-ID из значений словаря ids. \n",
    "# Т. е. список вида [213, 15, 54, 119, 98, 35]\n",
    "ids = {'user1': [213, 213, 213, 15, 213], 'user2': [54, 54, 119, 119, 119], 'user3': [213, 98, 98, 35]}"
   ]
  },
  {
   "cell_type": "code",
   "execution_count": 41,
   "metadata": {},
   "outputs": [
    {
     "name": "stdout",
     "output_type": "stream",
     "text": [
      "CPU times: user 4 µs, sys: 0 ns, total: 4 µs\n",
      "Wall time: 9.3 µs\n"
     ]
    },
    {
     "data": {
      "text/plain": [
       "{15, 35, 54, 98, 119, 213}"
      ]
     },
     "execution_count": 41,
     "metadata": {},
     "output_type": "execute_result"
    }
   ],
   "source": [
    "# вариант 1. Через цикл\n",
    "%time\n",
    "res = []\n",
    "for i in ids:\n",
    "    res+=ids[i]\n",
    "set(res)"
   ]
  },
  {
   "cell_type": "code",
   "execution_count": 42,
   "metadata": {},
   "outputs": [
    {
     "name": "stdout",
     "output_type": "stream",
     "text": [
      "CPU times: user 5 µs, sys: 0 ns, total: 5 µs\n",
      "Wall time: 11.7 µs\n"
     ]
    },
    {
     "data": {
      "text/plain": [
       "{15, 35, 54, 98, 119, 213}"
      ]
     },
     "execution_count": 42,
     "metadata": {},
     "output_type": "execute_result"
    }
   ],
   "source": [
    "# вариант 2. через reduce\n",
    "%time\n",
    "from functools import reduce\n",
    "set(reduce((lambda x, y: x + y), [ids[i] for i in ids]))\n"
   ]
  },
  {
   "cell_type": "code",
   "execution_count": 20,
   "metadata": {},
   "outputs": [],
   "source": [
    "# Задание 3\n",
    "# Список поисковых запросов. Получить распределение количества слов в них. \n",
    "# Т. е. поисковых запросов из одного слова 5%, из двух - 7%, из трех - 3% итд.\n",
    "queries = [\n",
    "'смотреть сериалы онлайн',\n",
    "'новости спорта',\n",
    "'афиша кино',\n",
    "'курс доллара',\n",
    "'сериалы этим летом',\n",
    "'курс по питону',\n",
    "'сериалы про спорт',\n",
    "]"
   ]
  },
  {
   "cell_type": "code",
   "execution_count": 25,
   "metadata": {},
   "outputs": [
    {
     "name": "stdout",
     "output_type": "stream",
     "text": [
      "Запросов из 3 слов(а) 4 шт. и это 57%\n",
      "Запросов из 2 слов(а) 3 шт. и это 43%\n"
     ]
    }
   ],
   "source": [
    "res={}\n",
    "for i in [len(i.split(' ')) for i in queries]:\n",
    "    res[i] = res[i]+1 if i in res else 1\n",
    "for i in res:\n",
    "    print(f'Запросов из {i} слов(а) {res[i]} шт. и это {res[i]/len(queries):.0%}')"
   ]
  },
  {
   "cell_type": "code",
   "execution_count": 38,
   "metadata": {},
   "outputs": [],
   "source": [
    "# Задание 4\n",
    "# Дана статистика рекламных каналов по объемам продаж. \n",
    "# Напишите скрипт, который возвращает название канала с максимальным объемом.\n",
    "# Т. е. в данном примере скрипт должен возвращать 'yandex'.\n",
    "stats = {'facebook': 55, 'yandex': 120, 'vk': 115, 'google': 99, 'email': 42, 'ok': 98}"
   ]
  },
  {
   "cell_type": "code",
   "execution_count": 47,
   "metadata": {},
   "outputs": [
    {
     "name": "stdout",
     "output_type": "stream",
     "text": [
      "CPU times: user 5 µs, sys: 1 µs, total: 6 µs\n",
      "Wall time: 10.5 µs\n"
     ]
    },
    {
     "data": {
      "text/plain": [
       "'yandex'"
      ]
     },
     "execution_count": 47,
     "metadata": {},
     "output_type": "execute_result"
    }
   ],
   "source": [
    "# вариант 1. Через циклы\n",
    "%time\n",
    "key, max_value = '', 0\n",
    "for i in stats:\n",
    "    if stats[i] > max_value:\n",
    "        max_value, key = stats[i], i\n",
    "key"
   ]
  },
  {
   "cell_type": "code",
   "execution_count": 51,
   "metadata": {},
   "outputs": [
    {
     "name": "stdout",
     "output_type": "stream",
     "text": [
      "CPU times: user 5 µs, sys: 0 ns, total: 5 µs\n",
      "Wall time: 10.5 µs\n"
     ]
    },
    {
     "data": {
      "text/plain": [
       "'yandex'"
      ]
     },
     "execution_count": 51,
     "metadata": {},
     "output_type": "execute_result"
    }
   ],
   "source": [
    "# вариант 2. Поменяем значени ключей и значений в словаре. \n",
    "# Найдем максимальный ключ. По ключу получим названия канала.\n",
    "%time\n",
    "tmp_dict = dict(zip(stats.values(),stats.keys()))\n",
    "tmp_dict[max(tmp_dict.keys())]"
   ]
  },
  {
   "cell_type": "code",
   "execution_count": null,
   "metadata": {},
   "outputs": [],
   "source": []
  },
  {
   "cell_type": "code",
   "execution_count": 3,
   "metadata": {},
   "outputs": [],
   "source": [
    "# Задание 5\n",
    "# Дан поток логов по количеству просмотренных страниц для каждого пользователя. \n",
    "# Список отсортирован по ID пользователя. Вам необходимо написать алгоритм, \n",
    "# который считает среднее значение просмотров на пользователя. \n",
    "# Т. е. надо посчитать отношение суммы всех просмотров \n",
    "# к количеству уникальных пользователей. \n",
    "# Учтите, что весь список stream не помещается в оперативную память, \n",
    "# т. е. его нужно обрабатывать поэлементно в цикле.\n",
    "stream = [\n",
    "'2018-01-01,user1,3',\n",
    "'2018-01-07,user1,4',\n",
    "'2018-03-29,user1,1',\n",
    "'2018-04-04,user1,13',\n",
    "'2018-01-05,user2,7',\n",
    "'2018-06-14,user3,4',\n",
    "'2018-07-02,user3,10',\n",
    "'2018-03-21,user4,19',\n",
    "'2018-03-22,user4,4',\n",
    "'2018-04-22,user4,8',\n",
    "'2018-05-03,user4,9',\n",
    "'2018-05-11,user4,11',\n",
    "]"
   ]
  },
  {
   "cell_type": "code",
   "execution_count": 4,
   "metadata": {},
   "outputs": [
    {
     "name": "stdout",
     "output_type": "stream",
     "text": [
      "user1 0.226\n",
      "user2 0.075\n",
      "user3 0.151\n",
      "user4 0.548\n"
     ]
    }
   ],
   "source": [
    "user_dict, all_count= {}, 0\n",
    "for i in stream:\n",
    "    time, user, count = i.split(',')\n",
    "    user_dict.setdefault(user, 0)\n",
    "    user_dict[user] += int(count)\n",
    "    all_count+= int(count)\n",
    "for i in user_dict:\n",
    "    print(f'{i} {user_dict[i]/all_count:.3f}')"
   ]
  },
  {
   "cell_type": "code",
   "execution_count": 5,
   "metadata": {},
   "outputs": [],
   "source": [
    "# на полученное замечание исправленный вариант"
   ]
  },
  {
   "cell_type": "code",
   "execution_count": 6,
   "metadata": {},
   "outputs": [
    {
     "name": "stdout",
     "output_type": "stream",
     "text": [
      "7.750\n"
     ]
    }
   ],
   "source": [
    "user_count, all_count, current_user_name  = 0, 0, ''\n",
    "for i in stream:\n",
    "    time, user, count = i.split(',')\n",
    "    all_count += int(count)\n",
    "    if current_user_name != user:\n",
    "        user_count +=1\n",
    "print(f'{all_count/user_count:.3f}')"
   ]
  },
  {
   "cell_type": "code",
   "execution_count": 60,
   "metadata": {},
   "outputs": [],
   "source": [
    "# Задание 6\n",
    "# Дана статистика рекламных кампаний по дням. \n",
    "# Напишите алгоритм, который по паре дата-кампания ищет значение \n",
    "# численного столбца. Т. е. для даты '2018-01-01' и 'google' нужно \n",
    "# получить число 25. Считайте, что все комбинации дата-кампания уникальны, \n",
    "# а список stats легко помещается в оперативной памяти.\n",
    "stats = [\n",
    "['2018-01-01', 'google', 25],\n",
    "['2018-01-01', 'yandex', 65],\n",
    "['2018-01-01', 'market', 89],\n",
    "['2018-01-02', 'google', 574],\n",
    "['2018-01-02', 'yandex', 249],\n",
    "['2018-01-02', 'market', 994],\n",
    "['2018-01-03', 'google', 1843],\n",
    "['2018-01-03', 'yandex', 1327],\n",
    "['2018-01-03', 'market', 1764],\n",
    "]"
   ]
  },
  {
   "cell_type": "code",
   "execution_count": 67,
   "metadata": {},
   "outputs": [
    {
     "name": "stdout",
     "output_type": "stream",
     "text": [
      "CPU times: user 5 µs, sys: 0 ns, total: 5 µs\n",
      "Wall time: 10.5 µs\n",
      "25\n"
     ]
    }
   ],
   "source": [
    "# Вариант 1. Через цикл\n",
    "date, company  = '2018-01-01', 'google'\n",
    "\n",
    "for i in stats:\n",
    "    if (i[0] == date) and (i[1] == company):\n",
    "        print(i[2])\n",
    "        break;"
   ]
  },
  {
   "cell_type": "code",
   "execution_count": 68,
   "metadata": {},
   "outputs": [
    {
     "name": "stdout",
     "output_type": "stream",
     "text": [
      "CPU times: user 6 µs, sys: 0 ns, total: 6 µs\n",
      "Wall time: 10.3 µs\n"
     ]
    },
    {
     "data": {
      "text/plain": [
       "25"
      ]
     },
     "execution_count": 68,
     "metadata": {},
     "output_type": "execute_result"
    }
   ],
   "source": [
    "# вариант 2.Сформируем словарь, где ключ = date + company, значение = число\n",
    "# Для нужной даты и компании получаем значение\n",
    "%time\n",
    "res = {x[0]+x[1]: x[2] for x in stats}\n",
    "res[date+company]"
   ]
  },
  {
   "cell_type": "code",
   "execution_count": 79,
   "metadata": {},
   "outputs": [],
   "source": [
    "# Бонусный вариант (делать его не обязательно)\n",
    "# Рассмотрите обобщенный вариант этой задачи: \n",
    "# имеется таблица из n столбцов. \n",
    "# Первые n-1 столбцов - признаки (комбинации этих признаков в таблице уникальные). \n",
    "# Последний столбец - значение. Вам необходимо по набору n-1 признаков найти \n",
    "# соответствующую строчку в таблице и вернуть значение из правого столбца. \n",
    "# Учтите, что исходная таблица может быть любого размера.\n",
    " \n",
    "# Одно из применений задачи - объединение двух таблиц \n",
    "# по n столбцов, одна из которых помещается в оперативной памяти. \n",
    "# Например, 7 столбцов по 1 и 10 миллионов строк.\n",
    "attributes = ['2018-01-02', 'google','PM']\n",
    "table = [\n",
    "['2018-01-01', 'google','AM', 25],\n",
    "['2018-01-01', 'google','PM', 35],    \n",
    "['2018-01-01', 'yandex','AM', 65],\n",
    "['2018-01-01', 'yandex','PM', 25],    \n",
    "['2018-01-01', 'market','AM', 89],\n",
    "['2018-01-01', 'market','PM', 98],    \n",
    "['2018-01-02', 'google','AM', 574],\n",
    "['2018-01-02', 'google','PM', 544],    \n",
    "['2018-01-02', 'yandex','AM', 249],\n",
    "['2018-01-02', 'yandex','PM', 299],    \n",
    "['2018-01-02', 'market','AM', 254],\n",
    "['2018-01-02', 'market','PM', 994],    \n",
    "['2018-01-03', 'google','AM', 1843],\n",
    "['2018-01-03', 'google','PM', 5433],    \n",
    "['2018-01-03', 'yandex','AM', 1237],\n",
    "['2018-01-03', 'yandex','PM', 1767],    \n",
    "['2018-01-03', 'market','AM', 2544],\n",
    "['2018-01-03', 'market','PM', 1994],    \n",
    "]"
   ]
  },
  {
   "cell_type": "code",
   "execution_count": 92,
   "metadata": {},
   "outputs": [
    {
     "name": "stdout",
     "output_type": "stream",
     "text": [
      "CPU times: user 6 µs, sys: 0 ns, total: 6 µs\n",
      "Wall time: 10.7 µs\n",
      "544\n"
     ]
    }
   ],
   "source": [
    "# вариант 1. Через двойной цикл\n",
    "%time\n",
    "for i in range(len(table)):\n",
    "    for j in range(len(attributes)):\n",
    "        if attributes[j] != table[i][j]:\n",
    "            break\n",
    "    else: \n",
    "        print(table[i][-1])"
   ]
  },
  {
   "cell_type": "code",
   "execution_count": 88,
   "metadata": {},
   "outputs": [
    {
     "name": "stdout",
     "output_type": "stream",
     "text": [
      "CPU times: user 5 µs, sys: 0 ns, total: 5 µs\n",
      "Wall time: 9.3 µs\n",
      "544\n"
     ]
    }
   ],
   "source": [
    "# вариант 2. Через сравнение атрибутов как строк  \n",
    "%time\n",
    "for i in table:\n",
    "    if ''.join(i[:-1]) == ''.join(attributes):\n",
    "        print(i[-1])"
   ]
  },
  {
   "cell_type": "code",
   "execution_count": null,
   "metadata": {},
   "outputs": [],
   "source": []
  },
  {
   "cell_type": "code",
   "execution_count": null,
   "metadata": {},
   "outputs": [],
   "source": []
  }
 ],
 "metadata": {
  "kernelspec": {
   "display_name": "Python 3",
   "language": "python",
   "name": "python3"
  },
  "language_info": {
   "codemirror_mode": {
    "name": "ipython",
    "version": 3
   },
   "file_extension": ".py",
   "mimetype": "text/x-python",
   "name": "python",
   "nbconvert_exporter": "python",
   "pygments_lexer": "ipython3",
   "version": "3.6.5"
  }
 },
 "nbformat": 4,
 "nbformat_minor": 2
}
