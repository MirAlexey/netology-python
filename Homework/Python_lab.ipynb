{
 "cells": [
  {
   "cell_type": "code",
   "execution_count": 149,
   "metadata": {},
   "outputs": [],
   "source": [
    "# 1. Дан произвольный список, содержащий только числа. \n",
    "# Выведите результат сложения всех чисел больше 10."
   ]
  },
  {
   "cell_type": "code",
   "execution_count": 150,
   "metadata": {},
   "outputs": [
    {
     "name": "stdout",
     "output_type": "stream",
     "text": [
      "Список: [10, 15, 4, 18, 13]\n",
      "46\n",
      "46\n",
      "46\n"
     ]
    }
   ],
   "source": [
    "import random\n",
    "from functools import reduce\n",
    "\n",
    "n = 5\n",
    "M = 20\n",
    "l = [random.randint(0, M)  for i in range(n)]\n",
    "\n",
    "print(f'Список: {l}')\n",
    "\n",
    "# 1\n",
    "s = 0\n",
    "for i in l:\n",
    "    s += i if i> 10 else 0\n",
    "print(s)  \n",
    "\n",
    "# 2\n",
    "s = reduce(lambda x,y: x+(y if y>10 else 0), l, 0)\n",
    "print(s)\n",
    "\n",
    "# 3\n",
    "s = sum(list(filter(lambda x: x > 10, l)))\n",
    "print(s)\n",
    "\n"
   ]
  },
  {
   "cell_type": "code",
   "execution_count": 151,
   "metadata": {},
   "outputs": [],
   "source": [
    "# 2. Пусть задан список, содержащий строки. \n",
    "# Выведите все строки, заканчивающиеся буковой r."
   ]
  },
  {
   "cell_type": "code",
   "execution_count": 152,
   "metadata": {},
   "outputs": [
    {
     "name": "stdout",
     "output_type": "stream",
     "text": [
      "qwer qwer\n",
      "erty rer\n",
      "asd d s r\n",
      "['qwer qwer', 'erty rer', 'asd d s r']\n"
     ]
    }
   ],
   "source": [
    "l = ['qwer qwer','wert sdf','erty rer', 'fdsghh', 'asd d s r']\n",
    "\n",
    "# 1\n",
    "for s in l:\n",
    "    if s[-1] == 'r':\n",
    "        print(s)\n",
    "\n",
    "# 2    \n",
    "import re\n",
    "print(list(filter(lambda s: re.search(r'.*r$',s), l)))\n",
    "       "
   ]
  },
  {
   "cell_type": "code",
   "execution_count": 153,
   "metadata": {},
   "outputs": [],
   "source": [
    "# 3. Сгенерируйте и выведите cлучайную строку размером 6 символов, \n",
    "# содержащую только цифры. Строка должна содержать хотя бы одну цифру 3."
   ]
  },
  {
   "cell_type": "code",
   "execution_count": 171,
   "metadata": {},
   "outputs": [
    {
     "name": "stdout",
     "output_type": "stream",
     "text": [
      "961533\n"
     ]
    }
   ],
   "source": [
    "import random\n",
    "\n",
    "l = [str(random.randint(0, 9)) for i in range(5)]\n",
    "l.append('3')\n",
    "\n",
    "random.shuffle(l)\n",
    "\n",
    "print(''.join(l))"
   ]
  },
  {
   "cell_type": "code",
   "execution_count": 169,
   "metadata": {},
   "outputs": [],
   "source": [
    "# 4. Пусть дана строка произвольной длины. \n",
    "# Выведите информацию о том, сколько в ней символов и сколько слов."
   ]
  },
  {
   "cell_type": "code",
   "execution_count": 156,
   "metadata": {},
   "outputs": [
    {
     "name": "stdout",
     "output_type": "stream",
     "text": [
      "Строка: ' erqw qqteqt  astrh asfg d '\n",
      " Длинна: 27\n",
      " Количество символов: 20\n",
      " Количество пробельных символов: 7\n",
      " Количество слов: 5\n",
      "\n",
      "Строка: ' erqw qqteqt  astrh asfg d '\n",
      " Длинна: 27\n",
      " Количество символов: 20\n",
      " Количество пробельных символов: 7\n",
      " Количество слов: 5\n",
      "\n",
      "Строка: ' erqw qqteqt  astrh asfg d '\n",
      " Длинна: 27\n",
      " Количество символов: 20\n",
      " Количество пробельных символов: 7\n",
      " Количество слов: 5\n",
      "\n"
     ]
    }
   ],
   "source": [
    "s = ' erqw qqteqt  astrh asfg d '\n",
    "\n",
    "# 1\n",
    "len_str = len(s)\n",
    "char_count = len(list(filter(lambda x: len(x.strip()) > 0 , s)))\n",
    "whitespace_char_count = len_str - char_count\n",
    "word_count = len(list(filter(lambda x: len(x)>0 , s.split(' '))))\n",
    "\n",
    "print(f'Строка: \\'{s}\\'\\n Длинна: {len_str}\\n Количество символов: {char_count}\\n Количество пробельных символов: {whitespace_char_count}\\n Количество слов: {word_count}\\n')\n",
    "\n",
    "# 2\n",
    "len_str = 0\n",
    "char_count = 0\n",
    "whitespace_char_count = 0\n",
    "word_count = 0\n",
    "prev_char = ''\n",
    "for x in s:\n",
    "    len_str+=1\n",
    "    if len(x.strip()) > 0:\n",
    "        char_count+=1\n",
    "    else:\n",
    "        whitespace_char_count+=1\n",
    "    if (len(x.strip()) > 0) and (len(prev_char.strip()) == 0):\n",
    "        word_count+=1\n",
    "    prev_char=x  \n",
    "\n",
    "print(f'Строка: \\'{s}\\'\\n Длинна: {len_str}\\n Количество символов: {char_count}\\n Количество пробельных символов: {whitespace_char_count}\\n Количество слов: {word_count}\\n')\n",
    "\n",
    "# 3\n",
    "import re\n",
    "word_count = len(re.findall(r'[^\\s]+', s))\n",
    "char_count = len(re.findall(r'[^\\s]{1}', s))\n",
    "whitespace_char_count = len(re.findall(r'[\\s]{1}', s))\n",
    "len_str = len(re.findall(r'.{1}', s))\n",
    "\n",
    "print(f'Строка: \\'{s}\\'\\n Длинна: {len_str}\\n Количество символов: {char_count}\\n Количество пробельных символов: {whitespace_char_count}\\n Количество слов: {word_count}\\n')\n"
   ]
  },
  {
   "cell_type": "code",
   "execution_count": 157,
   "metadata": {},
   "outputs": [],
   "source": [
    "# 5. Пусть дана матрица чисел размером NхN. Представьте данную матрицу в виде списка. \n",
    "# Выведите результат сложения всех элементов матрицы."
   ]
  },
  {
   "cell_type": "code",
   "execution_count": 158,
   "metadata": {},
   "outputs": [
    {
     "name": "stdout",
     "output_type": "stream",
     "text": [
      "Матрица: \n",
      " [[10  3  8]\n",
      " [ 1  4  8]\n",
      " [ 5  2  9]] \n",
      " сумма: 50\n",
      " Матрица как список [10, 3, 8, 1, 4, 8, 5, 2, 9]\n",
      "Матрица: \n",
      " [[10, 3, 8], [1, 4, 8], [5, 2, 9]] \n",
      " сумма: 50\n",
      " Матрица как список [10, 3, 8, 1, 4, 8, 5, 2, 9]\n"
     ]
    }
   ],
   "source": [
    "import random\n",
    "import numpy as np\n",
    "\n",
    "N = 3\n",
    "M = 10\n",
    "\n",
    "m = [[random.randint(0, M)  for i in range(N)] for i in range(N)]\n",
    "\n",
    "# 1\n",
    "np_m = np.array(m)\n",
    "l = list(np.reshape(np_m,N*N))\n",
    "s = np_m.sum()\n",
    "\n",
    "print(f'Матрица: \\n {np_m} \\n сумма: {s}\\n Матрица как список {l}')\n",
    "\n",
    "# 2\n",
    "l = [x for el in m for x in el ]\n",
    "s = sum(l)\n",
    "\n",
    "print(f'Матрица: \\n {m} \\n сумма: {s}\\n Матрица как список {l}')\n",
    "\n"
   ]
  },
  {
   "cell_type": "code",
   "execution_count": 159,
   "metadata": {},
   "outputs": [],
   "source": [
    "# 6 Пусть список студентов представлен в виде структуры \n",
    "# [[No, ФИО, Возраст, Группа],\n",
    "#  [No, ФИО, Возраст, Группа],\n",
    "#  [No, ФИО, Возраст, Группа]]. \n",
    "# Преобразуйте список в словарь вида: {No: [ФИО, Возраст, Группа], No:[....], No: [....]}"
   ]
  },
  {
   "cell_type": "code",
   "execution_count": 160,
   "metadata": {},
   "outputs": [
    {
     "name": "stdout",
     "output_type": "stream",
     "text": [
      "{1: ['Иванов Иван Иванович', 18, 'гр1'], 2: ['Петр Петрович Петров', 18, 'гр2'], 3: ['Александра Александровна Александрова', 18, 'гр1'], 4: ['Василиса Васильевна Васильева', 18, 'гр2']}\n",
      "{1: ['Иванов Иван Иванович', 18, 'гр1'], 2: ['Петр Петрович Петров', 18, 'гр2'], 3: ['Александра Александровна Александрова', 18, 'гр1'], 4: ['Василиса Васильевна Васильева', 18, 'гр2']}\n"
     ]
    }
   ],
   "source": [
    "l = [[1, 'Иванов Иван Иванович', 18, 'гр1'],\n",
    "     [2, 'Петр Петрович Петров', 18, 'гр2'],\n",
    "     [3, 'Александра Александровна Александрова', 18, 'гр1'],\n",
    "     [4, 'Василиса Васильевна Васильева', 18, 'гр2']]\n",
    "\n",
    "\n",
    "d={}\n",
    "#1 \n",
    "for x in l:\n",
    "    d[x[0]] = x[1:]\n",
    "print(f'{d}')\n",
    "\n",
    "#2\n",
    "d = {x[0]: x[1:] for x in l}\n",
    "print(f'{d}')"
   ]
  },
  {
   "cell_type": "code",
   "execution_count": 161,
   "metadata": {},
   "outputs": [],
   "source": [
    "# 7. Добавьте к задаче No6 для словаря возможность (без преобразования словаря обратно в список) изменить группу\n",
    "# студента. Поиск по «ФИО» («ФИО» студента и новый номер группы необходимо ввести с клавиатуры)."
   ]
  },
  {
   "cell_type": "code",
   "execution_count": 165,
   "metadata": {},
   "outputs": [
    {
     "name": "stdout",
     "output_type": "stream",
     "text": [
      "Введите ФИО:\n",
      "Иванов Иван Иванович\n",
      "Введите новую группу:\n",
      "гр-3\n",
      "Успешная замена. \n",
      " {1: ['Иванов Иван Иванович', 18, 'гр-3'], 2: ['Петр Петрович Петров', 18, 'гр2'], 3: ['Александра Александровна Александрова', 18, 'гр1'], 4: ['Василиса Васильевна Васильева', 18, 'гр2']}\n"
     ]
    }
   ],
   "source": [
    "l = { 1: ['Иванов Иван Иванович', 18, 'гр1'],\n",
    "      2: ['Петр Петрович Петров', 18, 'гр2'],\n",
    "      3: ['Александра Александровна Александрова', 18, 'гр1'],\n",
    "      4: ['Василиса Васильевна Васильева', 18, 'гр2']}\n",
    "\n",
    "def getIndexFIO(dictionary, fio):\n",
    "    for i in dictionary.keys():\n",
    "        if dictionary[i][0] == fio:\n",
    "            return i\n",
    "    return None    \n",
    "\n",
    "\n",
    "def setGroup(dictionary, fio , new_group):\n",
    "    index = getIndexFIO(dictionary, fio)\n",
    "    if index is not None:\n",
    "        dictionary[index][2] = new_group\n",
    "        return True\n",
    "    return False\n",
    "\n",
    "\n",
    "print('Введите ФИО:')\n",
    "fio = input()\n",
    "print('Введите новую группу:')\n",
    "ng = input()\n",
    "\n",
    "if setGroup(l,fio,ng):\n",
    "    print(f'Успешная замена. \\n {l}')\n",
    "else: \n",
    "    print('Замена невозможна. В словаре нет таких ФИО')\n",
    "    \n",
    "    "
   ]
  },
  {
   "cell_type": "code",
   "execution_count": 163,
   "metadata": {},
   "outputs": [],
   "source": [
    "# 8. *Дана некоторая директория (папка). \n",
    "#Посчитайте количество файлов в данной директории (папке) \n",
    "# и выведите на экран."
   ]
  },
  {
   "cell_type": "code",
   "execution_count": 164,
   "metadata": {},
   "outputs": [
    {
     "name": "stdout",
     "output_type": "stream",
     "text": [
      "Директория: /home/user/netologiy\n",
      "Количество файлов 48\n",
      "Директория: /home/user/netologiy\n",
      "Количество файлов и доступных подпапках 939\n"
     ]
    }
   ],
   "source": [
    "import os\n",
    "\n",
    "path='/home/user/netologiy'\n",
    "\n",
    "# без подкаталогов\n",
    "l = os.listdir(path)\n",
    "l_f = list(filter(lambda x: os.path.isfile(os.path.join(path,x)), l))\n",
    "print(f'Директория: {path}\\nКоличество файлов {len(l_f)}')\n",
    "\n",
    "# с подкаталогами\n",
    "def countFile(path):\n",
    "    count = 0\n",
    "    try:\n",
    "        l = os.listdir(path)\n",
    "        for x in l:\n",
    "            new_x = os.path.join(path,x)\n",
    "            if os.path.isfile(new_x):\n",
    "                count+=1\n",
    "            if os.path.isdir(new_x):\n",
    "                count+=countFile(new_x) \n",
    "    except:\n",
    "        pass\n",
    "    return count\n",
    "\n",
    "print(f'Директория: {path}\\nКоличество файлов и доступных подпапках {countFile(path)}')\n"
   ]
  },
  {
   "cell_type": "code",
   "execution_count": null,
   "metadata": {},
   "outputs": [],
   "source": []
  },
  {
   "cell_type": "code",
   "execution_count": null,
   "metadata": {},
   "outputs": [],
   "source": []
  }
 ],
 "metadata": {
  "kernelspec": {
   "display_name": "Python 3",
   "language": "python",
   "name": "python3"
  },
  "language_info": {
   "codemirror_mode": {
    "name": "ipython",
    "version": 3
   },
   "file_extension": ".py",
   "mimetype": "text/x-python",
   "name": "python",
   "nbconvert_exporter": "python",
   "pygments_lexer": "ipython3",
   "version": "3.6.5"
  }
 },
 "nbformat": 4,
 "nbformat_minor": 2
}
