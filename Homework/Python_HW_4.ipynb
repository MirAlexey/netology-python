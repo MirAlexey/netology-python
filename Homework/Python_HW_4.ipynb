{
 "cells": [
  {
   "cell_type": "code",
   "execution_count": 2,
   "metadata": {},
   "outputs": [],
   "source": [
    "# Задание 1\n",
    "# Напишите функцию date_range, которая возвращает \n",
    "# список дней между датами start_date и end_date. \n",
    "# Даты должны вводиться в формате YYYY-MM-DD."
   ]
  },
  {
   "cell_type": "code",
   "execution_count": 3,
   "metadata": {},
   "outputs": [
    {
     "data": {
      "text/plain": [
       "[datetime.datetime(1234, 1, 6, 0, 0),\n",
       " datetime.datetime(1234, 1, 7, 0, 0),\n",
       " datetime.datetime(1234, 1, 8, 0, 0),\n",
       " datetime.datetime(1234, 1, 9, 0, 0),\n",
       " datetime.datetime(1234, 1, 10, 0, 0),\n",
       " datetime.datetime(1234, 1, 11, 0, 0),\n",
       " datetime.datetime(1234, 1, 12, 0, 0),\n",
       " datetime.datetime(1234, 1, 13, 0, 0),\n",
       " datetime.datetime(1234, 1, 14, 0, 0)]"
      ]
     },
     "execution_count": 3,
     "metadata": {},
     "output_type": "execute_result"
    }
   ],
   "source": [
    "from datetime import datetime\n",
    "from datetime import timedelta\n",
    "from datetime import date\n",
    "# Вводим исходные данные\n",
    "start_date = '1234-1-5'\n",
    "end_date = '1234-1-15'\n",
    "\n",
    "def date_range(start_date, end_date):\n",
    "    # создаем список для накопления результата\n",
    "    res = []\n",
    "    start_date = datetime.strptime(str(start_date), '%Y-%m-%d')\n",
    "    end_date = datetime.strptime(str(end_date), '%Y-%m-%d')\n",
    "    # получаем список дней между датами не включая их самих  \n",
    "    current_day = start_date+timedelta(days=1) \n",
    "    while current_day < end_date:\n",
    "        res.append(current_day)\n",
    "        current_day+= timedelta(days=1)\n",
    "    return res    \n",
    "        \n",
    "date_range(start_date, end_date)  "
   ]
  },
  {
   "cell_type": "code",
   "execution_count": 4,
   "metadata": {},
   "outputs": [],
   "source": [
    "# Задание 2\n",
    "# Дополните функцию из первого задания проверкой на \n",
    "# корректность дат. В случае неверного формата или \n",
    "# если start_date > end_date должен возвращаться пустой список."
   ]
  },
  {
   "cell_type": "code",
   "execution_count": 5,
   "metadata": {},
   "outputs": [
    {
     "data": {
      "text/plain": [
       "[datetime.datetime(1234, 1, 6, 0, 0),\n",
       " datetime.datetime(1234, 1, 7, 0, 0),\n",
       " datetime.datetime(1234, 1, 8, 0, 0),\n",
       " datetime.datetime(1234, 1, 9, 0, 0),\n",
       " datetime.datetime(1234, 1, 10, 0, 0),\n",
       " datetime.datetime(1234, 1, 11, 0, 0),\n",
       " datetime.datetime(1234, 1, 12, 0, 0),\n",
       " datetime.datetime(1234, 1, 13, 0, 0),\n",
       " datetime.datetime(1234, 1, 14, 0, 0)]"
      ]
     },
     "execution_count": 5,
     "metadata": {},
     "output_type": "execute_result"
    }
   ],
   "source": [
    "# Вводим исходные данные\n",
    "start_date = '1234-1-5'\n",
    "end_date = '1234-1-15'\n",
    "\n",
    "def date_range(start_date, end_date):\n",
    "    # создаем список для накопления результата\n",
    "    res = []\n",
    "    # проверим корректность данных\n",
    "    try:\n",
    "        if(type(start_date) != datetime and type(end_date) != datetime):\n",
    "            # если типы данных не datetime, то предполагая,\n",
    "            # что тип данных может быть форматной строкой\n",
    "            # пробуем преобразовать в datetime\n",
    "            start_date, end_date = list(map(lambda x: datetime.strptime(str(x), '%Y-%m-%d'), [start_date, end_date]))\n",
    "    except Exception as e:\n",
    "        print('Некорректный формат данных', type(e))\n",
    "    else:     \n",
    "        # получаем список дней между датами не включая их самих  \n",
    "        current_day = start_date+timedelta(days=1) \n",
    "        while current_day < end_date:\n",
    "            res.append(current_day)\n",
    "            current_day+= timedelta(days=1)\n",
    "    return res    \n",
    "        \n",
    "    \n",
    "date_range(start_date, end_date)  "
   ]
  },
  {
   "cell_type": "code",
   "execution_count": 6,
   "metadata": {},
   "outputs": [],
   "source": [
    "# Задание 3\n",
    "# Дан поток дат в формате YYYY-MM-DD, \n",
    "# в которых встречаются некорректные значения:\n",
    "stream = ['2018-04-02', '2018-02-29', '2018-19-02']\n",
    "# Напишите функцию, которая проверяет эти даты на корректность. \n",
    "# Т. е. для каждой даты возвращает True (дата корректна) \n",
    "# или False (некорректная дата)."
   ]
  },
  {
   "cell_type": "code",
   "execution_count": 7,
   "metadata": {},
   "outputs": [
    {
     "name": "stdout",
     "output_type": "stream",
     "text": [
      "True\n",
      "False\n",
      "False\n"
     ]
    }
   ],
   "source": [
    "def is_correct(date):\n",
    "    try:\n",
    "        # пробуем преобразовать\n",
    "        x = datetime.strptime(str(date), '%Y-%m-%d')\n",
    "         # если ошибки не возникло возвращаем True\n",
    "        return True\n",
    "    except:\n",
    "        # если ошибка возвращаем False\n",
    "        return False\n",
    "\n",
    "        \n",
    "# проверим поток    \n",
    "for i in stream:\n",
    "    print(is_correct(i))"
   ]
  },
  {
   "cell_type": "code",
   "execution_count": 8,
   "metadata": {},
   "outputs": [],
   "source": [
    "# Задание 4\n",
    "# Напишите функцию, которая возвращает список дат \n",
    "# с 1 по вчерашний день текущего месяца. \n",
    "# Если дан 1 день месяца, то возвращается список \n",
    "# дней прошлого месяца."
   ]
  },
  {
   "cell_type": "code",
   "execution_count": 9,
   "metadata": {},
   "outputs": [
    {
     "data": {
      "text/plain": [
       "[datetime.datetime(2016, 3, 1, 0, 0), datetime.datetime(2016, 3, 2, 0, 0)]"
      ]
     },
     "execution_count": 9,
     "metadata": {},
     "output_type": "execute_result"
    }
   ],
   "source": [
    "# входной параметр текущая дата\n",
    "date = datetime.strptime('2016-03-03', '%Y-%m-%d')\n",
    "\n",
    "def getListDate(date):\n",
    "    # проверка входного параметра\n",
    "    if(type(date) != datetime):\n",
    "        print('Ошибка формата')\n",
    "        return []\n",
    "    # результат\n",
    "    res = []\n",
    "    # получаем вчерашний день\n",
    "    yesterday = date - timedelta(days=1)\n",
    "    # получаем первый день месяца текущего для вчерашнего дня\n",
    "    start_date  = datetime(yesterday.year, yesterday.month, 1)\n",
    "    # получим результирующий список\n",
    "    while start_date < date:\n",
    "        res.append(start_date)\n",
    "        start_date += timedelta(days=1)\n",
    "    return res\n",
    "\n",
    "        \n",
    "getListDate(date)"
   ]
  },
  {
   "cell_type": "code",
   "execution_count": 10,
   "metadata": {},
   "outputs": [],
   "source": [
    "# Задание 5\n",
    "# Напишите функцию, которая возвращает точную дату в формате \n",
    "# YYYY-MM-DD по фразе:\n",
    "# 1. 'today' - сегодняшнюю дату\n",
    "# 2. 'last monday' -  прошлый понедельник\n",
    "# 3. 'last day' - Последний день текущего месяца"
   ]
  },
  {
   "cell_type": "code",
   "execution_count": 22,
   "metadata": {},
   "outputs": [
    {
     "data": {
      "text/plain": [
       "'2018-09-05'"
      ]
     },
     "execution_count": 22,
     "metadata": {},
     "output_type": "execute_result"
    }
   ],
   "source": [
    "# функция получения даты\n",
    "#  'today' - сегоднешний день\n",
    "#  'last [день недели]' - предыдущий указанный день недели\n",
    "#  'next [день недели]' - следующий указанный день недели\n",
    "#  'last day'  - последний день месяца\n",
    "#  'first day'  - первый день месяца\n",
    "\n",
    "def getDate(str_date):\n",
    "    today = datetime.now()\n",
    "    # возвращаем значение для today \n",
    "    if str_date == 'today':\n",
    "        return today\n",
    "    try:\n",
    "        # получим направление во времение и нужный день недели\n",
    "        year, month, day, weekday = today.year, today.month, today.day, today.weekday()+1\n",
    "        direct, target = str_date.split(' ')\n",
    "        # параметр target = day и в зависимости он направления считаем день\n",
    "        if target == 'day':\n",
    "            if direct == 'last':\n",
    "                # последний день месяца получаем первый день следующего минус 1 день\n",
    "                target_day = datetime(today.year, today.month+1, 1)-timedelta(days=-1) \n",
    "            elif direct == 'first':\n",
    "                # получаем первый день месяца  \n",
    "                target_day = datetime(today.year, today.month, 1)\n",
    "            else:\n",
    "                target_day = today\n",
    "            return target_day.strftime('%Y-%m-%d') \n",
    "        # предполаггаем что параметр  target - ден недели и пытаемся получить его номер\n",
    "        target_weekday = datetime.strptime('1900 00 '+target, '%Y %W %A').weekday()+1\n",
    "        # для кажного направления получим смещение до нужного дня недели\n",
    "        if direct == 'last':\n",
    "            delta = -(weekday - target_weekday if weekday > target_weekday else weekday + (7-target_weekday)) \n",
    "        elif direct == 'next':\n",
    "            delta = target_weekday - weekday if weekday < target_weekday else (7-weekday) + target_weekday\n",
    "        else:\n",
    "            delta = 0\n",
    "        # получаем нужный день недели и возвращаем форматированную строку        \n",
    "        dest_target =  today + timedelta(days=delta)\n",
    "        return dest_target.strftime('%Y-%m-%d')\n",
    "    except Exception as e:\n",
    "        print(e) \n",
    "        pass\n",
    "    \n",
    "getDate('last Wednesday')"
   ]
  },
  {
   "cell_type": "code",
   "execution_count": null,
   "metadata": {},
   "outputs": [],
   "source": []
  },
  {
   "cell_type": "code",
   "execution_count": 12,
   "metadata": {},
   "outputs": [],
   "source": [
    "# Задание 6\n",
    "# Напишите функцию, которая разбивает на недели с \n",
    "# понедельника по воскресенье интервал дат между \n",
    "# start_date и end_date. Считайте, что входные данные \n",
    "# всегда корректны. В ответ должны входить только полные недели."
   ]
  },
  {
   "cell_type": "code",
   "execution_count": 13,
   "metadata": {},
   "outputs": [
    {
     "name": "stdout",
     "output_type": "stream",
     "text": [
      "[['2018-09-10', '2018-09-16'], ['2018-09-17', '2018-09-23'], ['2018-09-24', '2018-09-30'], ['2018-10-01', '2018-10-07'], ['2018-10-08', '2018-10-14'], ['2018-10-15', '2018-10-21']]\n"
     ]
    }
   ],
   "source": [
    "# считаем что на вход подаются две строки формата YYYY-MM-DD\n",
    "def getWeeks(start_date, end_date):\n",
    "    # получаем значения стартовой и конечной даты\n",
    "    start_date, end_date = list(map(lambda x: datetime.strptime(str(x), '%Y-%m-%d'), [start_date, end_date]))\n",
    "    res, start_weekday =  [], start_date.weekday()\n",
    "    # получим дату начала недели\n",
    "    start_week = start_date + timedelta(days=(6-start_weekday)+1)\n",
    "    currcen_date = start_week\n",
    "    # добавляем в резултирующий список пар значений с датами начала и конца недель\n",
    "    # до тех пор как конец текущей недели не будет позже конечной даты\n",
    "    while currcen_date + timedelta(days=7) < end_date:\n",
    "        res.append([currcen_date.strftime('%Y-%m-%d'),(currcen_date + timedelta(days=6)).strftime('%Y-%m-%d')])\n",
    "        currcen_date += timedelta(days=7)\n",
    "    return res  \n",
    "\n",
    "\n",
    "print(getWeeks('2018-09-05','2018-10-25'))"
   ]
  },
  {
   "cell_type": "code",
   "execution_count": null,
   "metadata": {},
   "outputs": [],
   "source": []
  },
  {
   "cell_type": "code",
   "execution_count": null,
   "metadata": {},
   "outputs": [],
   "source": []
  },
  {
   "cell_type": "code",
   "execution_count": null,
   "metadata": {},
   "outputs": [],
   "source": []
  },
  {
   "cell_type": "code",
   "execution_count": null,
   "metadata": {},
   "outputs": [],
   "source": []
  }
 ],
 "metadata": {
  "kernelspec": {
   "display_name": "Python 3",
   "language": "python",
   "name": "python3"
  },
  "language_info": {
   "codemirror_mode": {
    "name": "ipython",
    "version": 3
   },
   "file_extension": ".py",
   "mimetype": "text/x-python",
   "name": "python",
   "nbconvert_exporter": "python",
   "pygments_lexer": "ipython3",
   "version": "3.6.5"
  }
 },
 "nbformat": 4,
 "nbformat_minor": 2
}
