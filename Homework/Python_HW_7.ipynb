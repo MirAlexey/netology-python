{
 "cells": [
  {
   "cell_type": "code",
   "execution_count": 2,
   "metadata": {},
   "outputs": [],
   "source": [
    "# Задание\n",
    "# 1. Существует массив Z = [1,2,3,4,5,6,7,8,9,10,11,12,13,14],\n",
    "# как из него создать массив R = [[1,2,3,4], [2,3,4,5], [3,4,5,6], ...,[11,12,13,14]]?\n",
    " \n",
    "# 2. Дана произвольная матрица A. Рассчитать ранг матрицы A.\n",
    " \n",
    "# 3. Найти лучший алгоритм для решения следующей задачи:#\n",
    "# min (x1x4(x1+x2+x3)+x3).\n",
    "# Условия:\n",
    "# x1x2x3x4≥30\n",
    "# x1^2+x2^2+x3^2+x4^2=60\n",
    "# 2≤x1,x2,x3,x4≤6\n",
    "# Начальное приближение:\n",
    "# x=(1,5,5,1)\n"
   ]
  },
  {
   "cell_type": "code",
   "execution_count": 3,
   "metadata": {},
   "outputs": [
    {
     "data": {
      "text/plain": [
       "[[1, 2, 3, 4],\n",
       " [2, 3, 4, 5],\n",
       " [3, 4, 5, 6],\n",
       " [4, 5, 6, 7],\n",
       " [5, 6, 7, 8],\n",
       " [6, 7, 8, 9],\n",
       " [7, 8, 9, 10],\n",
       " [8, 9, 10, 11],\n",
       " [9, 10, 11, 12],\n",
       " [10, 11, 12, 13],\n",
       " [11, 12, 13, 14]]"
      ]
     },
     "execution_count": 3,
     "metadata": {},
     "output_type": "execute_result"
    }
   ],
   "source": [
    "# 1. Существует массив Z = [1,2,3,4,5,6,7,8,9,10,11,12,13,14],\n",
    "# как из него создать массив R = [[1,2,3,4], [2,3,4,5], [3,4,5,6], ...,[11,12,13,14]]?\n",
    "\n",
    "Z = [1,2,3,4,5,6,7,8,9,10,11,12,13,14]\n",
    "res = [Z[i:i+4] for i in range(len(Z)-3)]\n",
    "res"
   ]
  },
  {
   "cell_type": "code",
   "execution_count": 4,
   "metadata": {},
   "outputs": [],
   "source": [
    "# 2. Дана произвольная матрица A. Рассчитать ранг матрицы A.\n",
    "# Вариант 1. Метод окаймляющих миноров\n",
    "\n",
    "def getNextList(i, list_elem, len_elem):\n",
    "    \"\"\"\n",
    "        Получить следующий набор элкментов\n",
    "        i - размер минора\n",
    "        list_elem - спиок (строка или столбец) номеров элементов предыдущего минора\n",
    "        len_elem - длина строки\n",
    "    \"\"\"\n",
    "    for k in range(1,i+1):\n",
    "        if list_elem[-k] == len_elem-(k):\n",
    "            continue\n",
    "        list_elem[-k] = list_elem[-k] + 1\n",
    "        for n in range(k-1,0,-1):\n",
    "            list_elem[-n] = list_elem[-(n+1)]+1\n",
    "        return (True,list_elem)\n",
    "    return (False, list_elem)\n",
    "\n",
    "def getNextListRowAndCol(i, list_row, list_col, lenR, lenC):\n",
    "    \"\"\"\n",
    "       Получить номера строк и столбцов для следующего минора\n",
    "       i- размер минора\n",
    "       list_row, list_col - спиок (строка и столбец соответственно) \n",
    "                            номеров элементов предыдущего минора \n",
    "       lenR, lenC - количество элементов в строке и столбце\n",
    "    \"\"\"\n",
    "    if list_row is None:\n",
    "        return (True, [x for x in range(i)], [x for x in range(i)]) \n",
    "    res1, new_list_row = getNextList(i, list_row, lenR)\n",
    "    res2, new_list_col = getNextList(i, list_col, lenC)\n",
    "    if res1 or res2:\n",
    "        return (True, new_list_row, new_list_col)\n",
    "    else:\n",
    "        return (False, new_list_row, new_list_col) \n",
    "                \n",
    "    \n",
    "\n",
    "def getMinor(list_row, list_col, m):\n",
    "    \"\"\"\n",
    "       Получение минора\n",
    "       list_row - список нужных строк\n",
    "       list_col - список нужных столбцов\n",
    "       m - матрица\n",
    "    \"\"\"\n",
    "    return [[m[i][j] for j in list_col] for i in list_row]\n",
    "\n",
    "def getDeterminant(m):\n",
    "    \"\"\"\n",
    "       Расчет определителя матрицы m\n",
    "       m - квадратная матрица [[],[],[]]\n",
    "    \"\"\"\n",
    "    if len(m) == 1:\n",
    "        return m[0][0]\n",
    "    if len(m) == 2:\n",
    "        return m[0][0]*m[1][1]-m[0][1]*m[1][0]\n",
    "    num = [x for x in range(len(m))]\n",
    "    res = 0\n",
    "    for i in range(0,len(m)):\n",
    "        res+=(-1)**(i)*m[i][0]*getDeterminant(getMinor(num[:i]+num[i+1:],num[1:],m))\n",
    "    return res\n",
    "    \n",
    "\n",
    "\n",
    "def rang1(m):\n",
    "    \"\"\"\n",
    "    Расчет ранга матрицы\n",
    "    m - список списков типа [[],[],[]]\n",
    "    размер матрицы определяется как-  {длина списка} х {длина первого элемента списка}\n",
    "     \"\"\"\n",
    "    lenR = len(m)\n",
    "    if lenR == 0:\n",
    "        return 0;\n",
    "    lenC = len(m[0])\n",
    "    if lenC == 0:\n",
    "        return None\n",
    "    r = 0\n",
    "    for i in range(1,min(lenR, lenC)+1): # размер минора\n",
    "        list_row, list_col = None, None\n",
    "        while(True):\n",
    "            is_next, list_row, list_col = getNextListRowAndCol(i, list_row, list_col, lenR, lenC)\n",
    "            if not is_next:\n",
    "                break\n",
    "            minor = getMinor(list_row, list_col, m)\n",
    "            det = getDeterminant(minor)\n",
    "            if det != 0:\n",
    "                break\n",
    "        if det == 0:\n",
    "            return r\n",
    "        else:\n",
    "            r+=1\n",
    "    return r"
   ]
  },
  {
   "cell_type": "code",
   "execution_count": 5,
   "metadata": {},
   "outputs": [
    {
     "name": "stdout",
     "output_type": "stream",
     "text": [
      "3\n",
      "4\n",
      "3\n",
      "3\n",
      "2\n",
      "4\n"
     ]
    }
   ],
   "source": [
    "print(rang1([[0,-2,3,1],[0,0,6,1],[0,8,9,1]]))\n",
    "print(rang1([[3,-3,-5,8],[-3,2,4,-6],[2,-5,-7,5],[-4,3,5,-6]]))\n",
    "print(rang1([[3,-3,-5,8],[-3,2,4,-6],[2,-5,-7,5],[2,-5,-7,5]]))\n",
    "print(rang1([[3,-3,-5,-5],[-3,2,4,4],[2,-5,-7,-7],[-4,3,5,5]]))\n",
    "print(rang1([[3,0,-5,-5],[-3,0,4,4],[2,0,-7,-7],[-4,0,5,5]]))\n",
    "print(rang1([[1,0,0,0],[0,1,0,0],[0,0,1,0],[0,0,0,1]]))"
   ]
  },
  {
   "cell_type": "code",
   "execution_count": null,
   "metadata": {},
   "outputs": [],
   "source": []
  },
  {
   "cell_type": "code",
   "execution_count": null,
   "metadata": {},
   "outputs": [],
   "source": [
    "def foo(x):\n",
    "    return x[0]*x[3]*(x[0]+x[1]+x[2])+x[2]\n",
    "\n",
    "def limit1(x):\n",
    "    return x[0]*x[1]*x[2]*x[3]-30\n",
    "\n",
    "def limit2(x):\n",
    "    return 60-x[0]**2-x[1]**2-x[2]**2-x[3]**2\n",
    "x0 = [1,5,5,1]\n",
    "b = [2.0,6.0]\n",
    "bnds = [b,b,b,b]\n",
    "\n",
    "con1 = {'type': 'ineq', 'fun': limit1}\n",
    "con2 = {'type': 'eq', 'fun': limit2}\n",
    "cons = (con1, con2)\n",
    "\n",
    "res = minimize(foo, x0, method=\"SLSQP\", bounds=bnds, constraints=cons)\n",
    "\n",
    "res"
   ]
  },
  {
   "cell_type": "code",
   "execution_count": null,
   "metadata": {},
   "outputs": [],
   "source": []
  },
  {
   "cell_type": "code",
   "execution_count": null,
   "metadata": {},
   "outputs": [],
   "source": []
  },
  {
   "cell_type": "code",
   "execution_count": null,
   "metadata": {},
   "outputs": [],
   "source": []
  },
  {
   "cell_type": "code",
   "execution_count": null,
   "metadata": {},
   "outputs": [],
   "source": []
  },
  {
   "cell_type": "code",
   "execution_count": null,
   "metadata": {},
   "outputs": [],
   "source": []
  },
  {
   "cell_type": "code",
   "execution_count": null,
   "metadata": {},
   "outputs": [],
   "source": []
  },
  {
   "cell_type": "code",
   "execution_count": null,
   "metadata": {},
   "outputs": [],
   "source": []
  },
  {
   "cell_type": "code",
   "execution_count": null,
   "metadata": {},
   "outputs": [],
   "source": []
  },
  {
   "cell_type": "code",
   "execution_count": null,
   "metadata": {},
   "outputs": [],
   "source": []
  },
  {
   "cell_type": "code",
   "execution_count": null,
   "metadata": {},
   "outputs": [],
   "source": []
  },
  {
   "cell_type": "code",
   "execution_count": null,
   "metadata": {},
   "outputs": [],
   "source": []
  }
 ],
 "metadata": {
  "kernelspec": {
   "display_name": "Python 3",
   "language": "python",
   "name": "python3"
  },
  "language_info": {
   "codemirror_mode": {
    "name": "ipython",
    "version": 3
   },
   "file_extension": ".py",
   "mimetype": "text/x-python",
   "name": "python",
   "nbconvert_exporter": "python",
   "pygments_lexer": "ipython3",
   "version": "3.6.6"
  }
 },
 "nbformat": 4,
 "nbformat_minor": 2
}
