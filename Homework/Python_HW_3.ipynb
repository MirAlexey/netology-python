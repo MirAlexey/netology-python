{
 "cells": [
  {
   "cell_type": "code",
   "execution_count": 119,
   "metadata": {},
   "outputs": [
    {
     "data": {
      "text/plain": [
       "103"
      ]
     },
     "execution_count": 119,
     "metadata": {},
     "output_type": "execute_result"
    }
   ],
   "source": [
    "# Задание 1\n",
    "# Дан список вида:\n",
    "data = [\n",
    "[13, 25, 23, 34],\n",
    "[45, 32, 44, 47],\n",
    "[12, 33, 23, 95],\n",
    "[13, 53, 34, 35],\n",
    "]\n",
    "# Напишите функцию, которая возвращает сумму элементов \n",
    "# на диагонали. Т. е. 13+32+23+35.\n",
    "def getElem(data, i):\n",
    "    return data[i] if data[i] is not None else 0\n",
    "\n",
    "def getSumDiag(data):\n",
    "    res = 0\n",
    "    for i in range(len(data)):\n",
    "        res+=getElem(data[i], i)  \n",
    "    return res\n",
    "\n",
    "getSumDiag(data)"
   ]
  },
  {
   "cell_type": "code",
   "execution_count": null,
   "metadata": {},
   "outputs": [],
   "source": []
  },
  {
   "cell_type": "code",
   "execution_count": 120,
   "metadata": {},
   "outputs": [
    {
     "data": {
      "text/plain": [
       "430"
      ]
     },
     "execution_count": 120,
     "metadata": {},
     "output_type": "execute_result"
    }
   ],
   "source": [
    "# Задание 2\n",
    "# Дан список чисел, часть из которых имеют строковый тип \n",
    "# или содержат буквы. Напишите функцию, которая возвращает \n",
    "# сумму квадратов элементов, которые могут быть числами.\n",
    "data = [1, '5', 'abc', 20, '2']\n",
    "\n",
    "def getNum(x):\n",
    "    return int(x) if str(x).isnumeric() else 0\n",
    "    \n",
    "def getSumQrt(data):\n",
    "    res = 0\n",
    "    for i in data:\n",
    "        res+=(getNum(i)**2)\n",
    "    return res\n",
    "\n",
    "getSumQrt(data)"
   ]
  },
  {
   "cell_type": "code",
   "execution_count": null,
   "metadata": {},
   "outputs": [],
   "source": []
  },
  {
   "cell_type": "code",
   "execution_count": 121,
   "metadata": {},
   "outputs": [
    {
     "data": {
      "text/plain": [
       "'XDR'"
      ]
     },
     "execution_count": 121,
     "metadata": {},
     "output_type": "execute_result"
    }
   ],
   "source": [
    "# Задание 3\n",
    "# Напишите функцию, которая возвращает название валюты \n",
    "# (поле 'Name') с максимальным значением курса с помощью \n",
    "# сервиса https://www.cbr-xml-daily.ru/daily_json.js\n",
    " \n",
    "import requests\n",
    "\n",
    "def getMaxKurs(data_json):\n",
    "    valute = r['Valute']\n",
    "    nameValute = ''\n",
    "    maxKurs = 0\n",
    "    for i in valute.keys():\n",
    "        cur_kurs = valute[i]['Value']/valute[i]['Nominal']\n",
    "        if cur_kurs > maxKurs: \n",
    "            maxKurs = cur_kurs\n",
    "            nameValute = i\n",
    "    return nameValute\n",
    "    \n",
    "r = requests.get('https://www.cbr-xml-daily.ru/daily_json.js').json() \n",
    "\n",
    "getMaxKurs(r)\n"
   ]
  },
  {
   "cell_type": "code",
   "execution_count": null,
   "metadata": {},
   "outputs": [],
   "source": []
  },
  {
   "cell_type": "code",
   "execution_count": 122,
   "metadata": {},
   "outputs": [
    {
     "data": {
      "text/plain": [
       "67.7443"
      ]
     },
     "execution_count": 122,
     "metadata": {},
     "output_type": "execute_result"
    }
   ],
   "source": [
    "# Задание 4\n",
    "# Последнее упражнение с занятия\n",
    "# 1. Добавьте в класс еще один формат, который возвращает название \n",
    "# валюты (например, 'Евро').\n",
    "# 2. Добавьте в класс параметр diff (со значениями True или False), \n",
    "# который в случае значения True в методах eur и usd будет возвращать \n",
    "# не курс валюты, а изменение по сравнению в прошлым значением.\n",
    "\n",
    "class Rate:\n",
    "    def __init__(self, format='value', diff=False):\n",
    "        self.format = format\n",
    "        self.diff = diff\n",
    "        \n",
    "    def exchange_rates(self):\n",
    "        r = requests.get('https://www.cbr-xml-daily.ru/daily_json.js')\n",
    "        return r.json()['Valute']\n",
    "    \n",
    "    def setDiff(new_diff):\n",
    "        self.diff = new_diff\n",
    "        \n",
    "    def make_format(self, currency):\n",
    "        response = self.exchange_rates()\n",
    "        if currency in response:\n",
    "            if self.format == 'full':\n",
    "                return response[currency]\n",
    "            if self.format == 'value':\n",
    "                return response[currency]['Value']-response[currency]['Previous'] if self.diff else response[currency]['Value']\n",
    "        return 'Error'\n",
    "    \n",
    "    def make_format_name(self, currency):\n",
    "        response = self.exchange_rates()\n",
    "        if currency in response:\n",
    "            if self.format == 'full':\n",
    "                return response[currency]\n",
    "            if self.format == 'value':\n",
    "                return response[currency]['Name']\n",
    "        return 'Error'\n",
    "    \n",
    "    def eur(self):\n",
    "        return self.make_format('EUR')\n",
    "    def usd(self):\n",
    "        return self.make_format('USD')\n",
    "    \n",
    "x = Rate('value', False)  \n",
    "x.usd()"
   ]
  },
  {
   "cell_type": "code",
   "execution_count": null,
   "metadata": {},
   "outputs": [],
   "source": []
  },
  {
   "cell_type": "code",
   "execution_count": 123,
   "metadata": {},
   "outputs": [],
   "source": [
    "# Задание 5\n",
    "# Напишите функцию, возвращающую сумму первых n чисел Фибоначчи\n",
    "# Вариант 1 Через рекурсию\n",
    "def getFib(n):\n",
    "    return 0 if n == 0 else 1 if n == 1 else getFib(n-1)+getFib(n-2)\n",
    "\n",
    "def getSumFib(n):\n",
    "    res = 0\n",
    "    for i in range(n):\n",
    "        res+=getFib(i)\n",
    "    return res"
   ]
  },
  {
   "cell_type": "code",
   "execution_count": 124,
   "metadata": {},
   "outputs": [
    {
     "data": {
      "text/plain": [
       "5"
      ]
     },
     "execution_count": 124,
     "metadata": {},
     "output_type": "execute_result"
    }
   ],
   "source": [
    "getFib(5)"
   ]
  },
  {
   "cell_type": "code",
   "execution_count": 125,
   "metadata": {},
   "outputs": [
    {
     "data": {
      "text/plain": [
       "88"
      ]
     },
     "execution_count": 125,
     "metadata": {},
     "output_type": "execute_result"
    }
   ],
   "source": [
    "getSumFib(10)"
   ]
  },
  {
   "cell_type": "code",
   "execution_count": 126,
   "metadata": {},
   "outputs": [],
   "source": [
    "# Вариант 2 итеративно \n",
    "def getFib1(n):\n",
    "    f0,f1 = 0, 1\n",
    "    if n == 0:\n",
    "        return f0\n",
    "    for i in range(n-1):\n",
    "        f0,f1 = f1,f0+f1\n",
    "    return f1    \n",
    "    \n",
    "def getSumFib1(n):\n",
    "    res = 0\n",
    "    for i in range(n):\n",
    "        res+=getFib1(i)\n",
    "    return res    \n",
    "    "
   ]
  },
  {
   "cell_type": "code",
   "execution_count": 127,
   "metadata": {},
   "outputs": [
    {
     "data": {
      "text/plain": [
       "0"
      ]
     },
     "execution_count": 127,
     "metadata": {},
     "output_type": "execute_result"
    }
   ],
   "source": [
    "getFib1(0)"
   ]
  },
  {
   "cell_type": "code",
   "execution_count": 128,
   "metadata": {},
   "outputs": [
    {
     "data": {
      "text/plain": [
       "88"
      ]
     },
     "execution_count": 128,
     "metadata": {},
     "output_type": "execute_result"
    }
   ],
   "source": [
    "getSumFib1(10)"
   ]
  },
  {
   "cell_type": "code",
   "execution_count": 129,
   "metadata": {},
   "outputs": [],
   "source": [
    "# Вариант 3 через единую функцию\n",
    "def getSumFib2(n):\n",
    "    res = 0\n",
    "    f0,f1 = 0, 1\n",
    "    if n == 0:\n",
    "        return f0\n",
    "    for i in range(n-1):\n",
    "        res,f0,f1 = res+f1,f1,f0+f1\n",
    "    return res   "
   ]
  },
  {
   "cell_type": "code",
   "execution_count": 130,
   "metadata": {},
   "outputs": [
    {
     "data": {
      "text/plain": [
       "88"
      ]
     },
     "execution_count": 130,
     "metadata": {},
     "output_type": "execute_result"
    }
   ],
   "source": [
    "getSumFib2(10)"
   ]
  },
  {
   "cell_type": "code",
   "execution_count": 131,
   "metadata": {},
   "outputs": [],
   "source": [
    "# Задание 6\n",
    "# Напишите функцию, преобразующую произвольный \n",
    "# список вида ['2018-01-01', 'yandex', 'cpc', 100] \n",
    "# в словарь {'2018-01-01': {'yandex': {'cpc': 100}}}"
   ]
  },
  {
   "cell_type": "code",
   "execution_count": 132,
   "metadata": {},
   "outputs": [],
   "source": [
    "def getDict(src_list):\n",
    "    return {src_list[0]: None if len(src_list)<2 else src_list[1] if len(src_list) == 2 else getDict(src_list[1:])}"
   ]
  },
  {
   "cell_type": "code",
   "execution_count": 133,
   "metadata": {},
   "outputs": [
    {
     "data": {
      "text/plain": [
       "{'2018-01-01': {'yandex': {'cpc': 100}}}"
      ]
     },
     "execution_count": 133,
     "metadata": {},
     "output_type": "execute_result"
    }
   ],
   "source": [
    "getDict(['2018-01-01', 'yandex', 'cpc', 100])"
   ]
  },
  {
   "cell_type": "code",
   "execution_count": null,
   "metadata": {},
   "outputs": [],
   "source": []
  }
 ],
 "metadata": {
  "kernelspec": {
   "display_name": "Python 3",
   "language": "python",
   "name": "python3"
  },
  "language_info": {
   "codemirror_mode": {
    "name": "ipython",
    "version": 3
   },
   "file_extension": ".py",
   "mimetype": "text/x-python",
   "name": "python",
   "nbconvert_exporter": "python",
   "pygments_lexer": "ipython3",
   "version": "3.6.5"
  }
 },
 "nbformat": 4,
 "nbformat_minor": 2
}
